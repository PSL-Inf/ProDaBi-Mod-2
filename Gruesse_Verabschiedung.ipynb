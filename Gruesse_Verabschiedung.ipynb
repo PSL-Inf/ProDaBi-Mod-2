{
 "cells": [
  {
   "cell_type": "markdown",
   "metadata": {},
   "source": [
    "<h2>Aufgabe 1: Python-Datei importieren</h2>"
   ]
  },
  {
   "cell_type": "markdown",
   "metadata": {
    "markup_type": "task"
   },
   "source": [
    "Im gleichen Unterordner befindet sich eine Python-Datei gruesse.py. Darin ist folgende Methode definiert:<br>\n",
    "<code>def liebeGruesse(pName):\n",
    "\treturn \"Liebe Grüße, \" + pName\n",
    "    </code><br>\n",
    "    \n",
    "Importiere die Python-Datei und führe die Methode <code> liebeGruesse </code> aus, sodass Du mit Deinem Namen grüßen kannst."
   ]
  },
  {
   "cell_type": "code",
   "execution_count": 7,
   "metadata": {},
   "outputs": [],
   "source": [
    "#Platz für Deine Lösung:\n"
   ]
  },
  {
   "cell_type": "markdown",
   "metadata": {
    "markup_type": "hint"
   },
   "source": [
    "<h3>Lösung:</h3><br>\n",
    "<code>import gruesse</code><br>\n",
    "<code>gruesse.liebeGruesse(\"Sven\") #Lösung für Sven</code>"
   ]
  },
  {
   "cell_type": "markdown",
   "metadata": {},
   "source": [
    "<h2>Aufgabe 2: Python-Datei erstellen und importieren</h2>"
   ]
  },
  {
   "cell_type": "markdown",
   "metadata": {
    "markup_type": "task"
   },
   "source": [
    "Erstelle eine eigene .py-Datei, in der Du eine Methode definierst, mit der Du eine Person verabschieden kannst. Importiere die Datei dann hier im Notebook und rufe die Methode auf, um Sven zu verabschieden.\n",
    "\n",
    "<i>Tipp: Du kannst die Python-Datei in einem beliebigen Texteditor schreiben und sie dann in das Jupyter-Verzeichnis über den \"Upload\"-Button laden.<br> \n",
    "Alternativ kannst Du die Datei auch durch Klick auf \"New\" -> \"Text File\" im Jupyter-Ordner erstellen. Anschließend musst Du sie nur noch treffend benennen und die-py-Endung anhängen.</i>"
   ]
  },
  {
   "cell_type": "code",
   "execution_count": 9,
   "metadata": {},
   "outputs": [],
   "source": [
    "#Platz für Deine Lösung:\n"
   ]
  }
 ],
 "metadata": {
  "kernelspec": {
   "display_name": "Python 3",
   "language": "python",
   "name": "python3"
  },
  "language_info": {
   "codemirror_mode": {
    "name": "ipython",
    "version": 3
   },
   "file_extension": ".py",
   "mimetype": "text/x-python",
   "name": "python",
   "nbconvert_exporter": "python",
   "pygments_lexer": "ipython3",
   "version": "3.8.5"
  }
 },
 "nbformat": 4,
 "nbformat_minor": 4
}
